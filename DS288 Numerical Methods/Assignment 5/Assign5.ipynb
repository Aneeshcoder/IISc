{
 "cells": [
  {
   "cell_type": "markdown",
   "id": "ed2d802d-0275-4149-914c-8a1a19fd00a6",
   "metadata": {},
   "source": [
    "# Appendix: Assignment 5 Programming"
   ]
  },
  {
   "cell_type": "markdown",
   "id": "8dae73b1-0d4d-4a6f-bceb-698fd3173b09",
   "metadata": {},
   "source": [
    "## Ques 2"
   ]
  },
  {
   "cell_type": "code",
   "execution_count": 60,
   "id": "f0df33ba-a7f2-427b-92b6-811d40a7b6da",
   "metadata": {},
   "outputs": [
    {
     "name": "stdout",
     "output_type": "stream",
     "text": [
      "R[ 1] = 0.500000 \n",
      "R[ 2] = 0.646850 0.695800 \n",
      "R[ 3] = 0.708055 0.728457 0.730634 \n",
      "R[ 4] = 0.733100 0.741448 0.742314 0.742500 \n",
      "R[ 5] = 0.743230 0.746606 0.746950 0.747023 0.747041 \n",
      "R[ 6] = 0.747297 0.748653 0.748790 0.748819 0.748826 0.748828 \n",
      "R[ 7] = 0.748923 0.749465 0.749520 0.749531 0.749534 0.749535 0.749535 \n",
      "R[ 8] = 0.749572 0.749788 0.749809 0.749814 0.749815 0.749815 0.749815 0.749815 \n",
      "R[ 9] = 0.749830 0.749916 0.749924 0.749926 0.749927 0.749927 0.749927 0.749927 0.749927 \n",
      "R[10] = 0.749932 0.749967 0.749970 0.749971 0.749971 0.749971 0.749971 0.749971 0.749971 0.749971 \n",
      "R[11] = 0.749973 0.749987 0.749988 0.749988 0.749988 0.749988 0.749988 0.749988 0.749988 0.749988 0.749988 \n",
      "R[12] = 0.749989 0.749995 0.749995 0.749995 0.749995 0.749995 0.749995 0.749995 0.749995 0.749995 0.749995 0.749995 \n",
      "n:  12\n",
      "(0.7499954223896331, 2049)\n",
      "\n",
      "\n",
      "R[ 1] = 0.183940 \n",
      "R[ 2] = 0.167786 0.162402 \n",
      "R[ 3] = 0.162488 0.160722 0.160611 \n",
      "R[ 4] = 0.161080 0.160610 0.160603 0.160603 \n",
      "n:  4\n",
      "(0.16060280012980105, 9)\n"
     ]
    }
   ],
   "source": [
    "import math\n",
    "\n",
    "def print_row(i, R):\n",
    "  print(f\"R[{i+1:2d}] = \", end=\"\")\n",
    "  for j in range(i + 1):\n",
    "    print(f\"{R[j]:f} \", end=\"\")\n",
    "  print()\n",
    "\n",
    "def romberg(f, a, b, max_steps, tol):\n",
    "    R1, R2 = [0]*max_steps, [0]*max_steps\n",
    "    Rprev, Rcurr = R1, R2\n",
    "    h = b - a\n",
    "    Rprev[0] = 0.5*h*(f(a) + f(b))\n",
    "    fun_count = 2\n",
    "    print_row(0, Rprev)\n",
    "    \n",
    "    for i in range(1, max_steps):\n",
    "        h = h/2 \n",
    "        c = 0\n",
    "        exval = 2**(i-1)\n",
    "        for j in range(1, exval + 1):\n",
    "            c = c + f(a + (2*j - 1)*h)\n",
    "            fun_count = fun_count + 1\n",
    "        Rcurr[0] = h*c + 0.5*Rprev[0]\n",
    "\n",
    "        for j in range(1, i + 1):\n",
    "            nval = 4**j\n",
    "            Rcurr[j] = (nval * Rcurr[j - 1] - Rprev[j - 1]) / (nval - 1)\n",
    "\n",
    "        print_row(i, Rcurr)\n",
    "        if i > 1 and abs(Rprev[i - 1] - Rcurr[i]) < tol:\n",
    "            print(\"n: \", i + 1)\n",
    "            return Rcurr[i], fun_count\n",
    "        Rprev, Rcurr = Rcurr, Rprev\n",
    "    \n",
    "    print(\"n: \", i+1)\n",
    "    return Rprev[max_steps - 1], fun_count\n",
    "\n",
    "def f1(r):\n",
    "    return r**(1/3)\n",
    "\n",
    "def f2(r):\n",
    "    return (r**2)*(math.exp(-r))\n",
    "\n",
    "r1 = romberg(f1, 0, 1, 10000, 1e-5)\n",
    "print(r1)\n",
    "print(\"\\n\")\n",
    "r2 = romberg(f2, 0, 1, 10000, 1e-5)\n",
    "print(r2)"
   ]
  },
  {
   "cell_type": "code",
   "execution_count": 54,
   "id": "d733c59b-f0a2-4558-a0d0-63c8eecd3bef",
   "metadata": {},
   "outputs": [
    {
     "name": "stdout",
     "output_type": "stream",
     "text": [
      "(0.7499893428549149, 2049)\n",
      "\n",
      "\n",
      "(0.16107989607963955, 9)\n"
     ]
    }
   ],
   "source": [
    "def trapezoidal(f, a, b, n):\n",
    "    h = (b-a)/n\n",
    "    s = f(a) + f(b)\n",
    "    i = 1\n",
    "    fun_count = 2\n",
    "    while i < n:\n",
    "        s = s + 2*f(a + i*h)\n",
    "        fun_count = fun_count + 1\n",
    "        i = i + 1\n",
    "    return ((h/2)*s), fun_count\n",
    "\n",
    "t1 = trapezoidal(f1, 0, 1, 2**11)\n",
    "print(t1)\n",
    "print(\"\\n\")\n",
    "t2 = trapezoidal(f2, 0, 1, 2**3)\n",
    "print(t2)"
   ]
  },
  {
   "cell_type": "code",
   "execution_count": null,
   "id": "b18a420e-60fa-4ad1-aa68-36edbcefcf73",
   "metadata": {},
   "outputs": [],
   "source": []
  },
  {
   "cell_type": "markdown",
   "id": "9304e8ef-b9b1-4d04-aa0f-cfbd790ee742",
   "metadata": {},
   "source": [
    "## Ques 3"
   ]
  },
  {
   "cell_type": "code",
   "execution_count": 56,
   "id": "b1c837da-0da5-4c44-a66e-f22df0479b0d",
   "metadata": {},
   "outputs": [
    {
     "name": "stdout",
     "output_type": "stream",
     "text": [
      "n = 2:  0.759778022294319\n",
      "Gauss Points:  [-0.577350269189626, 0.577350269189626]\n",
      "Weights:  [1.00000000000000, 1.00000000000000]\n",
      "\n",
      "\n",
      "n = 3:  0.753855469939559\n",
      "Gauss Points:  [-0.774596669241483, 0.0, 0.774596669241483]\n",
      "Weights:  [0.555555555555555, 0.888888888888889, 0.555555555555555]\n",
      "\n",
      "\n",
      "n = 4:  0.751946476655680\n",
      "Gauss Points:  [-0.861136311594053, -0.339981043584856, 0.339981043584856, 0.861136311594053]\n",
      "Weights:  [0.347854845137454, 0.652145154862546, 0.652145154862546, 0.347854845137454]\n",
      "\n",
      "\n",
      "n = 5:  0.751132312655820\n",
      "Gauss Points:  [-0.906179845938664, -0.538469310105683, 0.0, 0.538469310105683, 0.906179845938664]\n",
      "Weights:  [0.236926885056189, 0.478628670499367, 0.568888888888889, 0.478628670499367, 0.236926885056189]\n",
      "\n",
      "\n",
      "\n",
      "\n",
      "n = 2:  0.159410430966379\n",
      "Gauss Points:  [-0.577350269189626, 0.577350269189626]\n",
      "Weights:  [1.00000000000000, 1.00000000000000]\n",
      "\n",
      "\n",
      "n = 3:  0.160595386808919\n",
      "Gauss Points:  [-0.774596669241483, 0.0, 0.774596669241483]\n",
      "Weights:  [0.555555555555555, 0.888888888888889, 0.555555555555555]\n",
      "\n",
      "\n",
      "n = 4:  0.160602777514685\n",
      "Gauss Points:  [-0.861136311594053, -0.339981043584856, 0.339981043584856, 0.861136311594053]\n",
      "Weights:  [0.347854845137454, 0.652145154862546, 0.652145154862546, 0.347854845137454]\n",
      "\n",
      "\n",
      "n = 5:  0.160602794123438\n",
      "Gauss Points:  [-0.906179845938664, -0.538469310105683, 0.0, 0.538469310105683, 0.906179845938664]\n",
      "Weights:  [0.236926885056189, 0.478628670499367, 0.568888888888889, 0.478628670499367, 0.236926885056189]\n",
      "\n",
      "\n"
     ]
    }
   ],
   "source": [
    "import sympy as sym\n",
    "x = sym.symbols('x')\n",
    "\n",
    "def legendre(x, n):\n",
    "    val = sym.diff((x**2 - 1)**n, x, n)\n",
    "    return (1/((2**n)*(math.factorial(n))))*val\n",
    "\n",
    "def weights_roots(n):\n",
    "    w = []\n",
    "    func = legendre(x, n)\n",
    "    funcdiff = sym.diff(func, x)\n",
    "    r = sym.solve(func, x, dict=False) \n",
    "    for i in range(len(r)):\n",
    "        val = 2/((1 - r[i]**2)*((funcdiff.subs(x, r[i]))**2))\n",
    "        w.append(val)\n",
    "    return r, w \n",
    "\n",
    "def quadrature(f, n, a, b):\n",
    "    fvalues = []\n",
    "    for i in range(len(n)):\n",
    "        funcval = 0\n",
    "        gausspt, weight = weights_roots(n[i])\n",
    "        for j in range(len(gausspt)):\n",
    "            normpt = ((b+a)/2) + ((b-a)/2)*gausspt[j]\n",
    "            funcval = funcval + ((b-a)/2)*weight[j]*f(normpt)\n",
    "        print(f\"n = {n[i]}: \", funcval)\n",
    "        fvalues.append(funcval)\n",
    "        print(\"Gauss Points: \", gausspt)\n",
    "        print(\"Weights: \",weight)\n",
    "        print(\"\\n\")\n",
    "    return fvalues\n",
    "\n",
    "n = [2,3,4,5]\n",
    "a = 0\n",
    "b = 1\n",
    "q1 = quadrature(f1, n, a, b)\n",
    "print(\"\\n\")\n",
    "q2 = quadrature(f2, n, a, b)\n"
   ]
  },
  {
   "cell_type": "code",
   "execution_count": null,
   "id": "3f92024b-eac2-49a0-af6f-01c26bb63134",
   "metadata": {},
   "outputs": [],
   "source": []
  }
 ],
 "metadata": {
  "kernelspec": {
   "display_name": "Python 3 (ipykernel)",
   "language": "python",
   "name": "python3"
  },
  "language_info": {
   "codemirror_mode": {
    "name": "ipython",
    "version": 3
   },
   "file_extension": ".py",
   "mimetype": "text/x-python",
   "name": "python",
   "nbconvert_exporter": "python",
   "pygments_lexer": "ipython3",
   "version": "3.12.4"
  }
 },
 "nbformat": 4,
 "nbformat_minor": 5
}
